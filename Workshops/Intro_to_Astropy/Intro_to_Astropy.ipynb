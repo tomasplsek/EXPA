{
  "nbformat": 4,
  "nbformat_minor": 0,
  "metadata": {
    "colab": {
      "private_outputs": true,
      "provenance": [],
      "toc_visible": true
    },
    "kernelspec": {
      "name": "python3",
      "display_name": "Python 3"
    },
    "language_info": {
      "name": "python"
    }
  },
  "cells": [
    {
      "cell_type": "markdown",
      "source": [
        "# **Introduction to Python**\n",
        "\n",
        "- object oriented programming language\n",
        "- high level language (implemented using C)\n",
        "- interpreted\n",
        "- open sourced / free to use\n",
        "- plenty of modules (`scipy`, `astropy`, `keras`, `Qt`...)\n",
        "- Python2, **Python3**\n",
        "- NOT ONLY scripting language\n",
        "- computations, programs, graphical interface, webs..."
      ],
      "metadata": {
        "id": "DKT7oDvVpE2F"
      }
    },
    {
      "cell_type": "code",
      "source": [
        "import sys\n",
        "print(sys.version)"
      ],
      "metadata": {
        "id": "Ol3O7McUrvVH"
      },
      "execution_count": null,
      "outputs": []
    },
    {
      "cell_type": "markdown",
      "source": [
        "## **Google colaboratory**\n",
        "\n",
        "- access notebooks and files from Google drive and GitHub\n",
        "- share notebooks\n",
        "- preinstalled packages (`numpy`, `scipy`, `matplotlib`, `keras`, `tensorflow`...)\n",
        "- GPU / TPU acceleration\n",
        "- bash shell commands !\n",
        "- non-traditional packages are easy to install: !pip install corner\n",
        "- magical commands %\n",
        "- include markdown or HTML blocks\n",
        "- display images & videos\n",
        "- get help"
      ],
      "metadata": {
        "id": "6k2cC8Fch55X"
      }
    },
    {
      "cell_type": "code",
      "source": [
        "import numpy\n",
        "import astropy\n",
        "import matplotlib"
      ],
      "metadata": {
        "id": "7diqve2GiVo9"
      },
      "execution_count": null,
      "outputs": []
    },
    {
      "cell_type": "markdown",
      "source": [
        "### **Bash commands**"
      ],
      "metadata": {
        "id": "eCsuFQ88iiyf"
      }
    },
    {
      "cell_type": "code",
      "source": [
        "!ls"
      ],
      "metadata": {
        "id": "OF3WCb2SiZjF"
      },
      "execution_count": null,
      "outputs": []
    },
    {
      "cell_type": "code",
      "source": [
        "!echo \"nic\" > file.txt"
      ],
      "metadata": {
        "id": "1eUmsxetidcP"
      },
      "execution_count": null,
      "outputs": []
    },
    {
      "cell_type": "code",
      "source": [
        "!cat file.txt"
      ],
      "metadata": {
        "id": "ZCjiNcGoimTj"
      },
      "execution_count": null,
      "outputs": []
    },
    {
      "cell_type": "markdown",
      "source": [
        "### **Installing packages**"
      ],
      "metadata": {
        "id": "xNRbT87Nist1"
      }
    },
    {
      "cell_type": "code",
      "source": [
        "!pip install corner"
      ],
      "metadata": {
        "id": "vbrgxoAtipKG"
      },
      "execution_count": null,
      "outputs": []
    },
    {
      "cell_type": "code",
      "source": [
        "!git clone https://github.com/dfm/corner.py.git\n",
        "!cd corner.py ; python -m pip install ."
      ],
      "metadata": {
        "id": "b146z8naiwyU"
      },
      "execution_count": null,
      "outputs": []
    },
    {
      "cell_type": "code",
      "source": [
        "import corner"
      ],
      "metadata": {
        "id": "U5OxAJE6i0Gl"
      },
      "execution_count": null,
      "outputs": []
    },
    {
      "cell_type": "markdown",
      "source": [
        "### **Magical commands**"
      ],
      "metadata": {
        "id": "4DqWzt7ji40U"
      }
    },
    {
      "cell_type": "code",
      "source": [
        "%matplotlib inline"
      ],
      "metadata": {
        "id": "NNF8IQ-ui2ej"
      },
      "execution_count": null,
      "outputs": []
    },
    {
      "cell_type": "code",
      "source": [
        "%time print(\"Hello world\")"
      ],
      "metadata": {
        "id": "EwgdzSAHi-8u"
      },
      "execution_count": null,
      "outputs": []
    },
    {
      "cell_type": "code",
      "source": [
        "import time\n",
        "\n",
        "%time time.sleep(1)"
      ],
      "metadata": {
        "id": "R_saIteNjBIQ"
      },
      "execution_count": null,
      "outputs": []
    },
    {
      "cell_type": "code",
      "source": [
        "%timeit -r 10 time.sleep(1)"
      ],
      "metadata": {
        "id": "DbBGLhwKjRah"
      },
      "execution_count": null,
      "outputs": []
    },
    {
      "cell_type": "markdown",
      "source": [
        "### **Markdown cells**\n",
        "\n",
        "### Heading\n",
        "#### Heading 2\n",
        "\n",
        "**bold**\n",
        "\n",
        "*italic*\n",
        "\n",
        "`code`\n",
        "\n",
        "```\n",
        "from numpy import sin\n",
        "```\n",
        "\n",
        "```python\n",
        "from numpy import sin\n",
        "```\n",
        "\n",
        "$v_{\\text{esc}} = \\sqrt{\\frac{2GM}{r}}$\n",
        "\n",
        "$$v_{\\text{esc}} = \\sqrt{\\frac{2GM}{r}}$$\n",
        "\n",
        "[link](https://scikit-learn.org/)\n",
        "\n",
        "![](https://scikit-learn.org/stable/_static/scikit-learn-logo-small.png)\n",
        "\n",
        "\n",
        "> block\\\n",
        "> text v bloku\n",
        "\n",
        "\n",
        "1.   ordered list\n",
        "2.   ...\n",
        "\n",
        "\n",
        "*   unordered list\n",
        "*   ...\n",
        "\n",
        "---"
      ],
      "metadata": {
        "id": "z8UaRyU8jXjK"
      }
    },
    {
      "cell_type": "markdown",
      "source": [
        "### **Get help**"
      ],
      "metadata": {
        "id": "-ap_4BHujdDV"
      }
    },
    {
      "cell_type": "code",
      "source": [
        "import matplotlib.pyplot as plt\n",
        "plt.plot?"
      ],
      "metadata": {
        "id": "tsNlk_OwjTvi"
      },
      "execution_count": null,
      "outputs": []
    },
    {
      "cell_type": "markdown",
      "source": [
        "### **Basics**"
      ],
      "metadata": {
        "id": "x3Fq4MYejmid"
      }
    },
    {
      "cell_type": "code",
      "source": [
        "a = 1"
      ],
      "metadata": {
        "id": "aZTlLGP1v5N1"
      },
      "execution_count": null,
      "outputs": []
    },
    {
      "cell_type": "code",
      "source": [
        "print(a)"
      ],
      "metadata": {
        "id": "aP8khToEv7R5"
      },
      "execution_count": null,
      "outputs": []
    },
    {
      "cell_type": "code",
      "source": [
        "a"
      ],
      "metadata": {
        "id": "hal7X_Lev9OF"
      },
      "execution_count": null,
      "outputs": []
    },
    {
      "cell_type": "code",
      "source": [
        "a = 1\n",
        "b = 2\n",
        "print(a + b)"
      ],
      "metadata": {
        "id": "QB-6qkQQO7zQ"
      },
      "execution_count": null,
      "outputs": []
    },
    {
      "cell_type": "code",
      "source": [
        "from numpy import sin, pi, exp, log10"
      ],
      "metadata": {
        "id": "GIg334ySYyul"
      },
      "execution_count": null,
      "outputs": []
    },
    {
      "cell_type": "code",
      "source": [
        "sin(pi/2)"
      ],
      "metadata": {
        "id": "6-2CqGWMPA2G"
      },
      "execution_count": null,
      "outputs": []
    },
    {
      "cell_type": "code",
      "source": [
        "exp(1)"
      ],
      "metadata": {
        "id": "XGGTWLcOY5MW"
      },
      "execution_count": null,
      "outputs": []
    },
    {
      "cell_type": "code",
      "source": [
        "log10(10)"
      ],
      "metadata": {
        "id": "atxJ4T6Wuawu"
      },
      "execution_count": null,
      "outputs": []
    },
    {
      "cell_type": "code",
      "source": [
        "3**2"
      ],
      "metadata": {
        "id": "uBwa0xcvZIwX"
      },
      "execution_count": null,
      "outputs": []
    },
    {
      "cell_type": "code",
      "source": [
        "exp()"
      ],
      "metadata": {
        "id": "NwJrZpSIsab2"
      },
      "execution_count": null,
      "outputs": []
    },
    {
      "cell_type": "markdown",
      "source": [
        "### **Classes**"
      ],
      "metadata": {
        "id": "pIcKIli3wBbT"
      }
    },
    {
      "cell_type": "code",
      "source": [
        "a = 1\n",
        "b = 4.2\n",
        "c = \"word\"\n",
        "d = [1, 2, 3]\n",
        "e = [1, 4.2, \"word\"]\n",
        "f = (1, 2, 3)\n",
        "g = {\"Tomas\" : 1, \"Toast\" : 2, \"Matěj\" : 3}\n",
        "\n",
        "def function(parameter):\n",
        "    return parameter"
      ],
      "metadata": {
        "id": "JX8P2LanjfKu"
      },
      "execution_count": null,
      "outputs": []
    },
    {
      "cell_type": "code",
      "source": [
        "seznam = [a, b, c, d, e, f, g, function]\n",
        "\n",
        "for i in seznam:\n",
        "    print(type(i))"
      ],
      "metadata": {
        "id": "cxFc95B7joig"
      },
      "execution_count": null,
      "outputs": []
    },
    {
      "cell_type": "code",
      "source": [
        "abs(-1.0)"
      ],
      "metadata": {
        "id": "sVglXuBZtDik"
      },
      "execution_count": null,
      "outputs": []
    },
    {
      "cell_type": "code",
      "source": [
        "1.0.__abs__()"
      ],
      "metadata": {
        "id": "hB665X0ik_L0"
      },
      "execution_count": null,
      "outputs": []
    },
    {
      "cell_type": "code",
      "source": [
        "for i in range(10):\n",
        "    print(i)"
      ],
      "metadata": {
        "id": "2eNrLyZePa_Q"
      },
      "execution_count": null,
      "outputs": []
    },
    {
      "cell_type": "code",
      "source": [
        "x = 0\n",
        "while x < 10:\n",
        "    print(x)\n",
        "    x += 1"
      ],
      "metadata": {
        "id": "mfqW24duPfFz"
      },
      "execution_count": null,
      "outputs": []
    },
    {
      "cell_type": "markdown",
      "source": [
        "## **Astropy: calculations**"
      ],
      "metadata": {
        "id": "xnbCC2Dnaucv"
      }
    },
    {
      "cell_type": "code",
      "source": [
        "import astropy.units as u\n",
        "from astropy.constants import G, M_earth, R_earth"
      ],
      "metadata": {
        "id": "e4aUu6y5a1bp"
      },
      "execution_count": null,
      "outputs": []
    },
    {
      "cell_type": "markdown",
      "source": [
        "$$v_{\\text{esc}} = \\sqrt{\\frac{2GM}{r}}$$"
      ],
      "metadata": {
        "id": "M18uvpNqa9x-"
      }
    },
    {
      "cell_type": "code",
      "source": [
        "G.unit"
      ],
      "metadata": {
        "id": "bkLFqljOt2VY"
      },
      "execution_count": null,
      "outputs": []
    },
    {
      "cell_type": "code",
      "source": [
        "escape_velocity = (2 * G * M_earth / R_earth)**0.5\n",
        "\n",
        "escape_velocity"
      ],
      "metadata": {
        "id": "Cb7R5xtIYGMU"
      },
      "execution_count": null,
      "outputs": []
    },
    {
      "cell_type": "code",
      "source": [
        "escape_velocity.to(u.km / u.s)"
      ],
      "metadata": {
        "id": "GNbVG-MkbsUb"
      },
      "execution_count": null,
      "outputs": []
    },
    {
      "cell_type": "code",
      "source": [
        "escape_velocity.value"
      ],
      "metadata": {
        "id": "hrIDJHMFcHZS"
      },
      "execution_count": null,
      "outputs": []
    },
    {
      "cell_type": "code",
      "source": [
        "escape_velocity.unit"
      ],
      "metadata": {
        "id": "W-foNMbscPRO"
      },
      "execution_count": null,
      "outputs": []
    },
    {
      "cell_type": "code",
      "source": [
        "from astropy.constants import hbar, c, G, k_B\n",
        "import matplotlib.pyplot as plt\n",
        "import numpy as np"
      ],
      "metadata": {
        "id": "NfcGn8FdvcN-"
      },
      "execution_count": null,
      "outputs": []
    },
    {
      "cell_type": "code",
      "source": [
        "def BH_temp(M):\n",
        "    return (hbar * c**3 / (8 * np.pi * G * k_B * M)).to(u.K)"
      ],
      "metadata": {
        "id": "hM0Gfe6_vmJK"
      },
      "execution_count": null,
      "outputs": []
    },
    {
      "cell_type": "code",
      "source": [
        "M = np.logspace(-8, 3, 100) * u.M_sun\n",
        "\n",
        "T = BH_temp(M)\n",
        "\n",
        "plt.plot(M, T)\n",
        "plt.xscale(\"log\")\n",
        "plt.yscale(\"log\")\n",
        "plt.xlabel(\"Mass\")\n",
        "plt.ylabel(\"Temperature\")"
      ],
      "metadata": {
        "id": "weoH_HE8vyLG"
      },
      "execution_count": null,
      "outputs": []
    },
    {
      "cell_type": "markdown",
      "source": [
        "## **Astropy: coordinates**"
      ],
      "metadata": {
        "id": "9rvI1-7TTbFX"
      }
    },
    {
      "cell_type": "code",
      "source": [
        "from astropy.coordinates import SkyCoord"
      ],
      "metadata": {
        "id": "ju_s8J1iTg0L"
      },
      "execution_count": null,
      "outputs": []
    },
    {
      "cell_type": "code",
      "source": [
        "ra = \"10h 12m 45.3s\"\n",
        "dec = \"+23d 45m 17.0s\"\n",
        "coords = SkyCoord(ra=ra, dec=dec, frame='icrs')"
      ],
      "metadata": {
        "id": "C4q8v6nvTj5h"
      },
      "execution_count": null,
      "outputs": []
    },
    {
      "cell_type": "code",
      "source": [
        "ra = 153.18875 * u.deg\n",
        "dec = 23.75472 * u.deg\n",
        "coords = SkyCoord(ra=ra, dec=dec, frame='icrs')"
      ],
      "metadata": {
        "id": "_Bp7XLwtT2uI"
      },
      "execution_count": null,
      "outputs": []
    },
    {
      "cell_type": "code",
      "source": [
        "coords.ra"
      ],
      "metadata": {
        "id": "cBYoyPoxTz85"
      },
      "execution_count": null,
      "outputs": []
    },
    {
      "cell_type": "code",
      "source": [
        "coords.ra.hms"
      ],
      "metadata": {
        "id": "OB3ZcnoMT6Ff"
      },
      "execution_count": null,
      "outputs": []
    },
    {
      "cell_type": "code",
      "source": [
        "coords.ra.deg"
      ],
      "metadata": {
        "id": "fEUYBZwaUEbO"
      },
      "execution_count": null,
      "outputs": []
    },
    {
      "cell_type": "code",
      "source": [
        "coords.ra.to_string(unit=u.hour, sep=':')"
      ],
      "metadata": {
        "id": "hkUpWCzrUPTw"
      },
      "execution_count": null,
      "outputs": []
    },
    {
      "cell_type": "code",
      "source": [
        "ra1 = \"10h 12m 45.3s\"\n",
        "dec1 = \"+23d 45m 17.0s\"\n",
        "coords1 = SkyCoord(ra=ra1, dec=dec1, frame='icrs')\n",
        "\n",
        "ra2 = \"10h 15m 30.2s\"\n",
        "dec2 = \"+24d 30m 40.0s\"\n",
        "coords2 = SkyCoord(ra=ra2, dec=dec2, frame='icrs')\n",
        "\n",
        "angular_separation = coords1.separation(coords2)\n",
        "angular_separation"
      ],
      "metadata": {
        "id": "PMakOelXS-BN"
      },
      "execution_count": null,
      "outputs": []
    },
    {
      "cell_type": "code",
      "source": [
        "angular_separation.deg"
      ],
      "metadata": {
        "id": "jQCt29asS-Ti"
      },
      "execution_count": null,
      "outputs": []
    },
    {
      "cell_type": "markdown",
      "source": [
        "## **Astropy: handling FITS files**"
      ],
      "metadata": {
        "id": "xU3o7p78pBx5"
      }
    },
    {
      "cell_type": "code",
      "source": [
        "from astropy.io import fits\n",
        "from astropy.wcs import WCS\n",
        "from astropy.nddata import Cutout2D\n",
        "\n",
        "import numpy as np\n",
        "import matplotlib.pyplot as plt\n",
        "from matplotlib.colors import LogNorm, SymLogNorm"
      ],
      "metadata": {
        "id": "4LEzYo6GpHaZ"
      },
      "execution_count": null,
      "outputs": []
    },
    {
      "cell_type": "code",
      "source": [
        "hdu = fits.open(\"NGC4649.fits\")\n",
        "\n",
        "data = hdu[0].data\n",
        "header = hdu[0].header\n",
        "\n",
        "wcs = WCS(header)"
      ],
      "metadata": {
        "id": "XG47jVKZpHuX"
      },
      "execution_count": null,
      "outputs": []
    },
    {
      "cell_type": "code",
      "source": [
        "x0 = data.shape[0] // 2\n",
        "size = 128\n",
        "cutout = Cutout2D(data, (x0, x0), (size, size), wcs=wcs)\n",
        "\n",
        "hdu[0].data = cutout.data\n",
        "hdu[0].header.update(cutout.wcs.to_header())\n",
        "\n",
        "hdu.writeto(f\"NGC4649_cropped.fits\", overwrite=True)"
      ],
      "metadata": {
        "id": "MlXxV8gI0Y5O"
      },
      "execution_count": null,
      "outputs": []
    },
    {
      "cell_type": "code",
      "source": [
        "data"
      ],
      "metadata": {
        "id": "QyMzjePDpIDv"
      },
      "execution_count": null,
      "outputs": []
    },
    {
      "cell_type": "code",
      "source": [
        "data.shape"
      ],
      "metadata": {
        "id": "Y9d5b0OXrZbM"
      },
      "execution_count": null,
      "outputs": []
    },
    {
      "cell_type": "code",
      "source": [
        "plt.figure(figsize=(5, 5))\n",
        "ax = plt.subplot(projection=wcs)\n",
        "\n",
        "p = ax.imshow(data, cmap='gray', origin='lower')\n",
        "plt.colorbar(p, ax=ax, fraction=0.045)\n",
        "\n",
        "ax.coords.grid(color='white', ls='dotted')\n",
        "ax.coords[0].set_axislabel('Right Ascension (RA)')\n",
        "ax.coords[1].set_axislabel('Declination (DEC)')"
      ],
      "metadata": {
        "id": "SejprOmUp7x_"
      },
      "execution_count": null,
      "outputs": []
    },
    {
      "cell_type": "code",
      "source": [
        "plt.figure(figsize=(5, 5))\n",
        "ax = plt.subplot(projection=wcs)\n",
        "\n",
        "p = ax.imshow(data+1, norm=LogNorm(), cmap='viridis', origin='lower')\n",
        "plt.colorbar(p, ax=ax, fraction=0.045)\n",
        "\n",
        "ax.coords.grid(color='white', ls='dotted')\n",
        "ax.coords[0].set_axislabel('Right Ascension (RA)')\n",
        "ax.coords[1].set_axislabel('Declination (DEC)')\n",
        "\n",
        "plt.savefig(\"NGC4649.png\", dpi=300)"
      ],
      "metadata": {
        "id": "3Kau3hdpqiSa"
      },
      "execution_count": null,
      "outputs": []
    },
    {
      "cell_type": "markdown",
      "source": [
        "## **Astropy: linear fit**"
      ],
      "metadata": {
        "id": "iXM0CbWUb82t"
      }
    },
    {
      "cell_type": "code",
      "source": [
        "from astropy.modeling import models, fitting"
      ],
      "metadata": {
        "id": "DAU41IsddnYd"
      },
      "execution_count": null,
      "outputs": []
    },
    {
      "cell_type": "code",
      "source": [
        "A = 2.5\n",
        "B = 1.5\n",
        "x = np.linspace(0, 10, 50)\n",
        "y = A * x + B + np.random.normal(size=x.size)\n",
        "\n",
        "plt.plot(x, y, marker=\"o\", lw=0)"
      ],
      "metadata": {
        "id": "H1zNRp8Ldr8M"
      },
      "execution_count": null,
      "outputs": []
    },
    {
      "cell_type": "code",
      "source": [
        "linear_model = models.Linear1D(slope=1, intercept=0)\n",
        "\n",
        "fitter = fitting.LevMarLSQFitter()\n",
        "fitted_model = fitter(linear_model, x, y)\n",
        "\n",
        "print(f\"\\nA = {fitted_model.slope.value:.3f}\\nB = {fitted_model.intercept.value:.3f}\")"
      ],
      "metadata": {
        "id": "XxrXMQeKS-my"
      },
      "execution_count": null,
      "outputs": []
    },
    {
      "cell_type": "code",
      "source": [
        "plt.plot(x, y, marker=\"o\", lw=0, label='Data')\n",
        "plt.plot(x, fitted_model(x), marker=\"\", label='Fitted Line')\n",
        "plt.xlabel('x')\n",
        "plt.ylabel('y')\n",
        "plt.legend();"
      ],
      "metadata": {
        "id": "ERa1kAeYm6yu"
      },
      "execution_count": null,
      "outputs": []
    },
    {
      "cell_type": "markdown",
      "source": [
        "## **Astropy: 2D fitting**"
      ],
      "metadata": {
        "id": "XXP1FZLGlbip"
      }
    },
    {
      "cell_type": "code",
      "source": [
        "from astropy.modeling.models import custom_model"
      ],
      "metadata": {
        "id": "I47EVjjwlgBu"
      },
      "execution_count": null,
      "outputs": []
    },
    {
      "cell_type": "markdown",
      "source": [
        "$$\\text{SB}(r) = A \\left[ 1 + \\left( \\frac{r}{r_c} \\right)^2 \\right]^{0.5-3\\beta}$$"
      ],
      "metadata": {
        "id": "Ds54sRfjvKd0"
      }
    },
    {
      "cell_type": "code",
      "source": [
        "@custom_model\n",
        "def Beta2D(x, y, amplitude=1, x_0=0, y_0=0, r_c=1, beta=0.5):\n",
        "    \"\"\"A 2D Beta model.\"\"\"\n",
        "    r = np.sqrt((x - x_0)**2 + (y - y_0)**2)\n",
        "    return amplitude * (1 + (r / r_c)**2)**(0.5 - 3*beta)\n",
        "\n",
        "x = np.arange(100)\n",
        "y = np.arange(100)\n",
        "x, y = np.meshgrid(x, y)\n",
        "\n",
        "beta_model = Beta2D(amplitude=1, x_0=50, y_0=50, r_c=10, beta=0.5)\n",
        "\n",
        "plt.imshow(beta_model(x, y), norm=LogNorm(), origin='lower', interpolation='nearest')\n",
        "plt.colorbar(fraction=0.045);"
      ],
      "metadata": {
        "id": "QUq-C1v4n0sM"
      },
      "execution_count": null,
      "outputs": []
    },
    {
      "cell_type": "code",
      "source": [
        "hdu = fits.open(\"NGC4649.fits\")\n",
        "\n",
        "data = hdu[0].data\n",
        "\n",
        "x = np.arange(data.shape[0])\n",
        "y = np.arange(data.shape[1])\n",
        "x, y = np.meshgrid(x, y)\n",
        "\n",
        "# Initial guess for the model parameters\n",
        "initial_guess = Beta2D(amplitude=150, x_0=259, y_0=259, r_c=8, beta=0.5)\n",
        "\n",
        "# Fit the model to the data\n",
        "fitter = fitting.LevMarLSQFitter()\n",
        "fitted_model = fitter(initial_guess, x, y, data)\n",
        "\n",
        "# Print fitted parameters\n",
        "print(f\"Fitted parameters:\\nA={fitted_model.amplitude.value:.3f}\"\n",
        "      f\"\\nx_0={fitted_model.x_0.value:.3f}\\ny_0={fitted_model.y_0.value:.3f}\"\n",
        "      f\"\\nr_c={fitted_model.r_c.value:.3f}\\nbeta={fitted_model.beta.value:.3f}\")\n",
        "\n",
        "# Plot the data, the fitted model, and the residuals\n",
        "plt.figure(figsize=(15, 5))\n",
        "\n",
        "# Plot original data\n",
        "plt.subplot(1, 3, 1)\n",
        "plt.title(\"Original Data\")\n",
        "plt.imshow(data+1, norm=LogNorm(), origin='lower', interpolation='nearest')\n",
        "plt.colorbar(fraction=0.045)\n",
        "\n",
        "# Plot fitted model\n",
        "plt.subplot(1, 3, 2)\n",
        "plt.title(\"Fitted Model\")\n",
        "plt.imshow(fitted_model(x, y)+1, norm=LogNorm(), origin='lower', interpolation='nearest')\n",
        "plt.colorbar(fraction=0.045)\n",
        "\n",
        "# Plot residual image\n",
        "plt.subplot(1, 3, 3)\n",
        "plt.title(\"Residual Image\")\n",
        "plt.imshow(data - fitted_model(x, y), norm=SymLogNorm(2), origin='lower', interpolation='nearest')\n",
        "plt.colorbar(fraction=0.045);"
      ],
      "metadata": {
        "id": "qvGRUn-ES-5j"
      },
      "execution_count": null,
      "outputs": []
    },
    {
      "cell_type": "code",
      "source": [
        "# Save residual image to FITS\n",
        "resid = data - fitted_model(x, y)\n",
        "hdu[0].data = resid\n",
        "hdu.writeto(\"NGC4649_resid.fits\", overwrite=True)"
      ],
      "metadata": {
        "id": "32K_GrCuS8cX"
      },
      "execution_count": null,
      "outputs": []
    },
    {
      "cell_type": "code",
      "source": [],
      "metadata": {
        "id": "cT7pmCBIm0xQ"
      },
      "execution_count": null,
      "outputs": []
    }
  ]
}